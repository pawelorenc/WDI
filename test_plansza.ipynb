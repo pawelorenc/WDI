{
  "nbformat": 4,
  "nbformat_minor": 0,
  "metadata": {
    "colab": {
      "provenance": [],
      "authorship_tag": "ABX9TyOjb8Ql92xpsqSDLqznq9xe",
      "include_colab_link": true
    },
    "kernelspec": {
      "name": "python3",
      "display_name": "Python 3"
    },
    "language_info": {
      "name": "python"
    }
  },
  "cells": [
    {
      "cell_type": "markdown",
      "metadata": {
        "id": "view-in-github",
        "colab_type": "text"
      },
      "source": [
        "<a href=\"https://colab.research.google.com/github/pawelorenc/WDI/blob/main/test_plansza.ipynb\" target=\"_parent\"><img src=\"https://colab.research.google.com/assets/colab-badge.svg\" alt=\"Open In Colab\"/></a>"
      ]
    },
    {
      "cell_type": "code",
      "execution_count": null,
      "metadata": {
        "id": "NUetFF33odjd",
        "colab": {
          "base_uri": "https://localhost:8080/"
        },
        "outputId": "bfdcf5d4-fad7-447e-9e90-b50f869163fb"
      },
      "outputs": [
        {
          "output_type": "stream",
          "name": "stdout",
          "text": [
            "Overwriting pytest_costam.py\n"
          ]
        }
      ],
      "source": [
        "%%writefile pytest_costam.py\n",
        "import random\n",
        "import pytest\n",
        "import unittest\n",
        "\n",
        "class ChessBoard:\n",
        "    def __init__(self, rozmiar):\n",
        "        if rozmiar <= 0:\n",
        "            raise ValueError(\"Rozmiar planszy musi być większy od 0\")\n",
        "        self.rozmiar = rozmiar\n",
        "        self.plansza = self._tworzenie_planszy()\n",
        "        self.gonce = []\n",
        "        self.generowanie_goncow(rozmiar)\n",
        "        self.umieszczenie_goncow()\n",
        "\n",
        "    def _tworzenie_planszy(self):\n",
        "        return [[\" \" for _ in range(self.rozmiar)] for _ in range(self.rozmiar)]\n",
        "\n",
        "    def generowanie_goncow(self, n):\n",
        "        pozycja = set()\n",
        "        while len(pozycja) < n:\n",
        "            wiersz = random.randint(0, self.rozmiar - 1)\n",
        "            kolumna = random.randint(0, self.rozmiar - 1)\n",
        "            pozycja.add((wiersz, kolumna))\n",
        "        self.gonce = list(pozycja)\n",
        "\n",
        "    def umieszczenie_goncow(self):\n",
        "        for wiersz, kolumna in self.gonce:\n",
        "            self.plansza[wiersz][kolumna] = \"B\"\n",
        "\n",
        "    def szachujace_gonce(self):\n",
        "        szachujace = []\n",
        "        for i in range(len(self.gonce)):\n",
        "            for j in range(i + 1, len(self.gonce)):\n",
        "                wiersz1, kolumna1 = self.gonce[i]\n",
        "                wiersz2, kolumna2 = self.gonce[j]\n",
        "                if abs(wiersz1 - wiersz2) == abs(kolumna1 - kolumna2):\n",
        "                    szachujace.append((self.gonce[i], self.gonce[j]))\n",
        "        return szachujace\n",
        "\n",
        "\n",
        "def test_tworzenie_planszy():\n",
        "    szachownica = ChessBoard(10)\n",
        "    assert len(szachownica.plansza) == 10\n",
        "\n",
        "def test_generowanie_goncow():\n",
        "    szachownica = ChessBoard(10)\n",
        "    n = len(szachownica.gonce)\n",
        "    assert len(szachownica.gonce) == n\n",
        "\n",
        "def test_szachujace_gonce():\n",
        "    szachownica = ChessBoard(10)\n",
        "    szachownica.gonce = [(0, 0), (1, 1)]\n",
        "    szachujace = szachownica.szachujace_gonce()\n",
        "    assert len(szachujace) == 1\n",
        "\n",
        "\n",
        "class TestChessBoard(unittest.TestCase):\n",
        "\n",
        "    def test_tworzenie_planszy(self):\n",
        "        szachownica = ChessBoard(5)\n",
        "        self.assertEqual(len(szachownica.plansza), 5)\n",
        "\n",
        "\n",
        "    def test_generowanie_goncow(self):\n",
        "        szachownica = ChessBoard(10)\n",
        "        n = len(szachownica.gonce)\n",
        "        self.assertNotEqual(n, 0)\n",
        "\n",
        "\n",
        "    def test_bledny_rozmiar_planszy(self):\n",
        "        with self.assertRaises(ValueError):\n",
        "            szachownica = ChessBoard(0)\n",
        "\n",
        "unittest.main(argv=[''], verbosity=2, exit=False)\n"
      ]
    },
    {
      "cell_type": "code",
      "source": [
        "!pytest -v pytest_costam.py"
      ],
      "metadata": {
        "colab": {
          "base_uri": "https://localhost:8080/"
        },
        "id": "amgDqFauO1UW",
        "outputId": "acd34d1a-baaa-450c-94a7-1a4b0fbbf3df"
      },
      "execution_count": null,
      "outputs": [
        {
          "output_type": "stream",
          "name": "stdout",
          "text": [
            "\u001b[1m======================================= test session starts ========================================\u001b[0m\n",
            "platform linux -- Python 3.10.12, pytest-8.3.4, pluggy-1.5.0 -- /usr/bin/python3\n",
            "cachedir: .pytest_cache\n",
            "rootdir: /content\n",
            "plugins: typeguard-4.4.1, anyio-3.7.1\n",
            "\u001b[1mcollecting ... \u001b[0m\u001b[1m\rcollected 6 items                                                                                  \u001b[0m\n",
            "\n",
            "pytest_costam.py::test_tworzenie_planszy \u001b[32mPASSED\u001b[0m\u001b[32m                                              [ 16%]\u001b[0m\n",
            "pytest_costam.py::test_generowanie_goncow \u001b[32mPASSED\u001b[0m\u001b[32m                                             [ 33%]\u001b[0m\n",
            "pytest_costam.py::test_szachujace_gonce \u001b[32mPASSED\u001b[0m\u001b[32m                                               [ 50%]\u001b[0m\n",
            "pytest_costam.py::TestChessBoard::test_bledny_rozmiar_planszy \u001b[32mPASSED\u001b[0m\u001b[32m                         [ 66%]\u001b[0m\n",
            "pytest_costam.py::TestChessBoard::test_generowanie_goncow \u001b[32mPASSED\u001b[0m\u001b[32m                             [ 83%]\u001b[0m\n",
            "pytest_costam.py::TestChessBoard::test_tworzenie_planszy \u001b[32mPASSED\u001b[0m\u001b[32m                              [100%]\u001b[0m\n",
            "\n",
            "\u001b[32m======================================== \u001b[32m\u001b[1m6 passed\u001b[0m\u001b[32m in 0.04s\u001b[0m\u001b[32m =========================================\u001b[0m\n"
          ]
        }
      ]
    }
  ]
}