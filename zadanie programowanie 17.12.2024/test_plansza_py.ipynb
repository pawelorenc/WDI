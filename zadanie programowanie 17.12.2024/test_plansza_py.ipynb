{
  "nbformat": 4,
  "nbformat_minor": 0,
  "metadata": {
    "colab": {
      "provenance": []
    },
    "kernelspec": {
      "name": "python3",
      "display_name": "Python 3"
    },
    "language_info": {
      "name": "python"
    }
  },
  "cells": [
    {
      "cell_type": "code",
      "execution_count": null,
      "metadata": {
        "colab": {
          "base_uri": "https://localhost:8080/"
        },
        "id": "NUetFF33odjd",
        "outputId": "42284485-54be-4c93-9c15-906d45110634"
      },
      "outputs": [
        {
          "output_type": "stream",
          "name": "stdout",
          "text": [
            "======================================= test session starts ========================================\n",
            "platform linux -- Python 3.10.12, pytest-8.3.4, pluggy-1.5.0 -- /usr/bin/python3\n",
            "cachedir: .pytest_cache\n",
            "rootdir: /content\n",
            "plugins: typeguard-4.4.1, anyio-3.7.1\n",
            "collecting ... collected 0 items\n",
            "\n",
            "====================================== no tests ran in 0.02s =======================================\n"
          ]
        }
      ],
      "source": [
        "import random\n",
        "import unittest\n",
        "import pytest\n",
        "\n",
        "class ChessBoard:\n",
        "    def __init__(self, rozmiar):\n",
        "        if rozmiar <= 0:\n",
        "            raise ValueError(\"Rozmiar planszy musi być większy od 0\")\n",
        "        self.rozmiar = rozmiar\n",
        "        self.plansza = self._tworzenie_planszy()\n",
        "        self.gonce = []\n",
        "        self.generowanie_goncow(rozmiar)\n",
        "        self.umieszczenie_goncow()\n",
        "\n",
        "    def _tworzenie_planszy(self):\n",
        "        return [[\" \" for _ in range(self.rozmiar)] for _ in range(self.rozmiar)]\n",
        "\n",
        "    def generowanie_goncow(self, n):\n",
        "        pozycja = set()\n",
        "        while len(pozycja) < n:\n",
        "            wiersz = random.randint(0, self.rozmiar - 1)\n",
        "            kolumna = random.randint(0, self.rozmiar - 1)\n",
        "            pozycja.add((wiersz, kolumna))\n",
        "        self.gonce = list(pozycja)\n",
        "\n",
        "    def umieszczenie_goncow(self):\n",
        "        for wiersz, kolumna in self.gonce:\n",
        "            self.plansza[wiersz][kolumna] = \"B\"\n",
        "\n",
        "    def szachujace_gonce(self):\n",
        "        szachujace = []\n",
        "        for i in range(len(self.gonce)):\n",
        "            for j in range(i + 1, len(self.gonce)):\n",
        "                wiersz1, kolumna1 = self.gonce[i]\n",
        "                wiersz2, kolumna2 = self.gonce[j]\n",
        "                if abs(wiersz1 - wiersz2) == abs(kolumna1 - kolumna2):\n",
        "                    szachujace.append((self.gonce[i], self.gonce[j]))\n",
        "        return szachujace\n",
        "\n",
        "\n",
        "def test_tworzenie_planszy():\n",
        "    szachownica = ChessBoard(5)\n",
        "    assert len(szachownica.plansza) == 5\n",
        "    assert len(szachownica.plansza[0]) == 5\n",
        "\n",
        "def test_generowanie_goncow():\n",
        "    szachownica = ChessBoard(10)\n",
        "    n = len(szachownica.gonce)\n",
        "    assert len(szachownica.gonce) == n\n",
        "\n",
        "def test_szachujace_gonce():\n",
        "    szachownica = ChessBoard(8)\n",
        "    szachownica.gonce = [(0, 0), (1, 1), (3, 3)]\n",
        "    szachujace = szachownica.szachujace_gonce()\n",
        "    assert len(szachujace) == 1\n"
      ]
    },
    {
      "cell_type": "code",
      "source": [
        "class TestChessBoard(unittest.TestCase):\n",
        "\n",
        "    def test_tworzenie_planszy(self):\n",
        "        szachownica = ChessBoard(5)\n",
        "        self.assertEqual(len(szachownica.plansza), 5)\n",
        "\n",
        "\n",
        "    def test_generowanie_goncow(self):\n",
        "        szachownica = ChessBoard(10)\n",
        "        n = len(szachownica.gonce)\n",
        "        self.assertNotEqual(n, 0)\n",
        "\n",
        "    def test_bledny_rozmiar_planszy(self):\n",
        "        with self.assertRaises(ValueError):\n",
        "            szachownica = ChessBoard(0)\n",
        "\n",
        "unittest.main(argv=[''], verbosity=2, exit=False)"
      ],
      "metadata": {
        "colab": {
          "base_uri": "https://localhost:8080/"
        },
        "id": "eJKCbh3a8grq",
        "outputId": "544ec668-e59f-4f54-bac8-0619860d3ed5"
      },
      "execution_count": null,
      "outputs": [
        {
          "output_type": "stream",
          "name": "stderr",
          "text": [
            "test_bledny_rozmiar_planszy (__main__.TestChessBoard) ... ok\n",
            "test_generowanie_goncow (__main__.TestChessBoard) ... ok\n",
            "test_tworzenie_planszy (__main__.TestChessBoard) ... ok\n",
            "\n",
            "----------------------------------------------------------------------\n",
            "Ran 3 tests in 0.014s\n",
            "\n",
            "OK\n"
          ]
        },
        {
          "output_type": "execute_result",
          "data": {
            "text/plain": [
              "<unittest.main.TestProgram at 0x781c62b68250>"
            ]
          },
          "metadata": {},
          "execution_count": 137
        }
      ]
    }
  ]
}